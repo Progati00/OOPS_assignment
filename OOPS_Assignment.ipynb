{
 "cells": [
  {
   "cell_type": "markdown",
   "id": "3517c2da",
   "metadata": {},
   "source": [
    "# Q1 : What are the five key concepts of Object-Oriented Programming (OOP)?\n",
    "\n",
    "### A1 :\n",
    "\n",
    "Key concepts of OOPS :\n",
    "\n",
    "1. A blueprint / template for creating objects. It defines a set of attributes and methods that the created objects will have.\n",
    "2. Object is an instance of a class. It is created using the class and can have its own unique attributes and behaviors.\n",
    "3. Building complex objects by combining simpler objects.\n",
    "4. Inheritance is creating new classes based on existing ones, allowing reuse and extension of code.\n",
    "5. Polymorphism is the ability to present the same interface for different underlying forms (data types). It allows methods to do different things based on the object it is acting upon.\n",
    "6. In Python, the __init__ method is used as a constructor to initialize the object’s attributes and  __del__ method is used as a destructor to clean up resources."
   ]
  },
  {
   "cell_type": "markdown",
   "id": "33a33e3c",
   "metadata": {},
   "source": [
    "# Q2 :  Write a Python class for a `Car` with attributes for `make`, `model`, and `year`. Include a method to display the car's information.\n",
    "\n",
    "### A2 :"
   ]
  },
  {
   "cell_type": "code",
   "execution_count": 5,
   "id": "754a56d0",
   "metadata": {},
   "outputs": [
    {
     "name": "stdout",
     "output_type": "stream",
     "text": [
      "Car: 2021 Ferrari Porsche\n"
     ]
    }
   ],
   "source": [
    "class Car:\n",
    "    def __init__(self, make, model, year):\n",
    "        self.make = make\n",
    "        self.model = model\n",
    "        self.year = year\n",
    "        \n",
    "    def display_info(self):\n",
    "        print(f\"Car: {self.year} {self.make} {self.model}\")\n",
    "        \n",
    "my_Car = Car(\"Ferrari\", \"Porsche\", 2021)\n",
    "my_Car.display_info()"
   ]
  },
  {
   "cell_type": "markdown",
   "id": "2f34805a",
   "metadata": {},
   "source": [
    "# Q3 : Explain the difference between instance methods and class methods. Provide an example of each.\n",
    "\n",
    "### A3 :\n",
    "\n",
    "Instance methods operate on an instance of the class. They can access and modify the object's attributes. They are defined with self as the first parameter.\n",
    "\n",
    "Class methods operate on the class itself rather than on instances of the class. They are defined with cls as the first parameter."
   ]
  },
  {
   "cell_type": "code",
   "execution_count": 7,
   "id": "8748f133",
   "metadata": {},
   "outputs": [
    {
     "name": "stdout",
     "output_type": "stream",
     "text": [
      "Tom is a British Longhair\n"
     ]
    }
   ],
   "source": [
    "class Cat:\n",
    "    def __init__(self, name, breed):\n",
    "        self.name = name     # instance attribute\n",
    "        self.breed = breed   # instance attribute\n",
    "        \n",
    "    def description(self):\n",
    "        return f\"{self.name} is a {self.breed}\"\n",
    "    \n",
    "C = Cat(\"Tom\", \"British Longhair\")\n",
    "print(C.description())     # instance method"
   ]
  },
  {
   "cell_type": "code",
   "execution_count": 8,
   "id": "c538efef",
   "metadata": {},
   "outputs": [
    {
     "name": "stdout",
     "output_type": "stream",
     "text": [
      "total number of Cats: 3\n"
     ]
    }
   ],
   "source": [
    "class Cat:\n",
    "    Cats_count = 0       # class attribute\n",
    "    def __init__(self, name):\n",
    "        self.name = name\n",
    "        Cat.Cats_count += 1\n",
    "    \n",
    "    # class method\n",
    "    @classmethod\n",
    "    def total_Cats(cls):\n",
    "        return f\"total number of Cats: {cls.Cats_count}\"\n",
    "C1 = Cat(\"Tom\")\n",
    "C2 = Cat(\"Teddy\")\n",
    "C3 = Cat(\"Simon\")\n",
    "print(Cat.total_Cats()) # class method"
   ]
  },
  {
   "cell_type": "markdown",
   "id": "2d3feea3",
   "metadata": {},
   "source": [
    "# Q4 :  How does Python implement method overloading? Give an example.\n",
    "\n",
    "### A4 : \n",
    "\n",
    "Python doesn't support method overloading in the traditional sense. But we can use default arguments or variable length arguments to achieve the same functionality."
   ]
  },
  {
   "cell_type": "code",
   "execution_count": 9,
   "id": "9ce190fa",
   "metadata": {},
   "outputs": [
    {
     "name": "stdout",
     "output_type": "stream",
     "text": [
      "11\n",
      "10\n"
     ]
    }
   ],
   "source": [
    "class Math:\n",
    "    def add(self, a, b=0):\n",
    "        return a + b\n",
    "Math = Math()\n",
    "print(Math.add(4, 7))\n",
    "print(Math.add(2, 8))"
   ]
  },
  {
   "cell_type": "code",
   "execution_count": 12,
   "id": "b8f7d080",
   "metadata": {},
   "outputs": [
    {
     "name": "stdout",
     "output_type": "stream",
     "text": [
      "Hi, Ana!\n",
      "Good afternoon, Bella!\n"
     ]
    }
   ],
   "source": [
    "class human:\n",
    "    def greet(self, name, message='Hi'):\n",
    "        return f\"{message}, {name}\"\n",
    "    \n",
    "human = human()\n",
    "print(human.greet('Ana!'))\n",
    "print(human.greet('Bella!', 'Good afternoon'))"
   ]
  },
  {
   "cell_type": "markdown",
   "id": "b7ee263d",
   "metadata": {},
   "source": [
    "# Q5 :  5. What are the three types of access modifiers in Python? How are they denoted?\n",
    "\n",
    "### A5 :\n",
    "\n",
    "There are 3 types of access modifiers in python.\n",
    "1. Public: No special notation i.e  no leading underscores. Accessible from anywhere.\n",
    "2. Protected: Single underscore (_), accessible within the class and its subclasses.\n",
    "3. Private: Double underscore (__), accessible only within the class. "
   ]
  },
  {
   "cell_type": "markdown",
   "id": "35e95d75",
   "metadata": {},
   "source": [
    "# Q6 :  Describe the five types of inheritance in Python. Provide a simple example of multiple inheritance.\n",
    "\n",
    "### A6:\n",
    "1. Single inheritance: Inherits from one base class.\n",
    "2. Multiple inheritance: Inherits from more than one base class.\n",
    "3. Multilevel inheritance: Inherits from a derived class.\n",
    "4. Hierarchical inheritance: More than one class inherits from a single base class.\n",
    "5. Hybrid inheritance: A combination of more than one type of inheritance."
   ]
  },
  {
   "cell_type": "code",
   "execution_count": 13,
   "id": "c2c3a730",
   "metadata": {},
   "outputs": [
    {
     "name": "stdout",
     "output_type": "stream",
     "text": [
      "Team Badminton Team Basketball\n"
     ]
    }
   ],
   "source": [
    "class girl:\n",
    "    def team_badminton(self):\n",
    "        return \"Team Badminton\"\n",
    "    \n",
    "class boy:\n",
    "    def team_basketball(self):\n",
    "        return \"Team Basketball\"\n",
    "    \n",
    "class total(girl, boy):\n",
    "    pass\n",
    "\n",
    "obj = total()\n",
    "print(obj.team_badminton(), obj.team_basketball())"
   ]
  },
  {
   "cell_type": "markdown",
   "id": "7b8a8074",
   "metadata": {},
   "source": [
    "# Q7 :  What is the Method Resolution Order (MRO) in Python? How can you retrieve it programmatically?\n",
    "\n",
    "### A7 :\n",
    "\n",
    "MRO is the order in which python looks for methods in hierarchy of classes. MRO matters in python specially when dealing with multiple inheritence.\n",
    "We can retrieve the MRO using __mro__ attriute, the mro() method or inspect.getmro().Python uses C3 linearization algorithm to compute the MRO. "
   ]
  },
  {
   "cell_type": "code",
   "execution_count": 14,
   "id": "3345c687",
   "metadata": {},
   "outputs": [
    {
     "name": "stdout",
     "output_type": "stream",
     "text": [
      "[<class '__main__.B'>, <class '__main__.A'>, <class 'object'>]\n"
     ]
    }
   ],
   "source": [
    "class A:\n",
    "    pass\n",
    "class B(A):\n",
    "    pass\n",
    "\n",
    "print(B.mro())"
   ]
  },
  {
   "cell_type": "markdown",
   "id": "bed5766c",
   "metadata": {},
   "source": [
    "# Q8 :  Create an abstract base class `Shape` with an abstract method `area()`. Then create two subclasses `Circle` and `Rectangle` that implement the `area()` method.\n",
    "\n",
    "### A8 :\n"
   ]
  },
  {
   "cell_type": "code",
   "execution_count": 15,
   "id": "7bf32765",
   "metadata": {},
   "outputs": [
    {
     "name": "stdout",
     "output_type": "stream",
     "text": [
      "Circle area: 113.09733552923255\n",
      "Rectangle area: 80\n"
     ]
    }
   ],
   "source": [
    "from abc import ABC, abstractmethod\n",
    "import math\n",
    "\n",
    "class GeometricShape(ABC):\n",
    "    @abstractmethod\n",
    "    def calculate_area(self):\n",
    "        pass\n",
    "\n",
    "class CircleShape(GeometricShape):\n",
    "    def __init__(self, radius):\n",
    "        self.radius = radius\n",
    "\n",
    "    def calculate_area(self):\n",
    "        return math.pi * self.radius ** 2\n",
    "\n",
    "class RectangleShape(GeometricShape):\n",
    "    def __init__(self, width, height):\n",
    "        self.width = width\n",
    "        self.height = height\n",
    "\n",
    "    def calculate_area(self):\n",
    "        return self.width * self.height\n",
    "\n",
    "circle = CircleShape(6)\n",
    "rectangle = RectangleShape(8, 10)\n",
    "print(f\"Circle area: {circle.calculate_area()}\")     \n",
    "print(f\"Rectangle area: {rectangle.calculate_area()}\")"
   ]
  },
  {
   "cell_type": "markdown",
   "id": "d56ee9c4",
   "metadata": {},
   "source": [
    "# Q9 : Demonstrate polymorphism by creating a function that can work with different shape objects to calculate and print their areas\n",
    "\n",
    "### A9 :"
   ]
  },
  {
   "cell_type": "markdown",
   "id": "5ce2470b",
   "metadata": {},
   "source": [
    "Polymorphism enables the creation of a single function that calculates the area of both Square and Rectangle shapes, regardless of their specific type.\n",
    "For eg: we have a square and rectangle class, both of which inherit from a common parent class-> shape. To calculate area-> area() method."
   ]
  },
  {
   "cell_type": "code",
   "execution_count": 19,
   "id": "e35a7359",
   "metadata": {},
   "outputs": [],
   "source": [
    "class shape:\n",
    "    def area(self):\n",
    "        pass\n",
    "    \n",
    "class Rectangle(shape):\n",
    "    def __init__(self, width, height) :\n",
    "        self.width = width\n",
    "        self.height = height\n",
    "    def area(self):\n",
    "        return self.width * self.height       # area formula of a rectangle\n",
    "    \n",
    "class Square(Rectangle):\n",
    "    def __init__(self, side_length):\n",
    "        super().__init__(side_length, side_length)    # square is a rectangle with equal sides\n",
    "        \n",
    "def print_area(shape):\n",
    "    print(f\"The area is : {shape.area()}\")"
   ]
  },
  {
   "cell_type": "code",
   "execution_count": 21,
   "id": "5aa59d9d",
   "metadata": {},
   "outputs": [
    {
     "name": "stdout",
     "output_type": "stream",
     "text": [
      "The area is : 24\n",
      "The area is : 9\n"
     ]
    }
   ],
   "source": [
    "rectangle = Rectangle(4,6)\n",
    "square = Square(3)\n",
    "print_area(rectangle)\n",
    "print_area(square)"
   ]
  },
  {
   "cell_type": "markdown",
   "id": "9798408a",
   "metadata": {},
   "source": [
    "# Q10 : Implement encapsulation in a `BankAccount` class with private attributes for `balance` and `account_number`. Include methods for deposit, withdrawal, and balance inquiry.\n",
    "\n",
    "### A10 :\n"
   ]
  },
  {
   "cell_type": "code",
   "execution_count": 25,
   "id": "881460b3",
   "metadata": {},
   "outputs": [
    {
     "name": "stdout",
     "output_type": "stream",
     "text": [
      "3300\n"
     ]
    }
   ],
   "source": [
    "class BankAccount:\n",
    "    def __init__(self, account_number, balance=0):\n",
    "        self.__balance = balance      # private attribute\n",
    "        self.__account_number = account_number    # private attribute\n",
    "        \n",
    "    def deposit(self, amount):        # deposit money\n",
    "        self.__balance += amount\n",
    "        \n",
    "    def withdraw(self, amount):\n",
    "        if amount <= self.__balance:\n",
    "            self.__balance -= amount\n",
    "        else:\n",
    "            print(\"Insufficient balance\")\n",
    "            \n",
    "    def get_balance(self):\n",
    "        return self.__balance\n",
    "    \n",
    "account = BankAccount(\"12347650\", 3000)\n",
    "account.deposit(600)\n",
    "account.withdraw(300)\n",
    "print(account.get_balance())"
   ]
  },
  {
   "cell_type": "markdown",
   "id": "41137f3b",
   "metadata": {},
   "source": [
    "# Q11 :  Write a class that overrides the `__str__` and `__add__` magic methods. What will these methods allow you to do?\n",
    "\n",
    "### A11 :"
   ]
  },
  {
   "cell_type": "markdown",
   "id": "ced535f2",
   "metadata": {},
   "source": [
    "Overriding these methods allows you to customize the string representation and addition behaviour of objects."
   ]
  },
  {
   "cell_type": "code",
   "execution_count": 26,
   "id": "436e3e34",
   "metadata": {},
   "outputs": [
    {
     "name": "stdout",
     "output_type": "stream",
     "text": [
      "4+6i\n"
     ]
    }
   ],
   "source": [
    "class ComplexNumber:\n",
    "    def __init__(self, real, imag):\n",
    "        self.real = real\n",
    "        self.imag = imag\n",
    "        \n",
    "    def __add__(self, other):\n",
    "        return ComplexNumber(self.real + other.real, self.imag + other.imag)\n",
    "    \n",
    "    def __str__(self):\n",
    "        return f\"{self.real}+{self.imag}i\"\n",
    "    \n",
    "a = ComplexNumber(1, 2)\n",
    "b = ComplexNumber(3, 4)\n",
    "c = a + b\n",
    "print(c)"
   ]
  },
  {
   "cell_type": "markdown",
   "id": "a4148fdf",
   "metadata": {},
   "source": [
    "# Q12 : Create a decorator that measures and prints the execution time of a function.\n",
    "\n",
    "\n",
    "### A12 :"
   ]
  },
  {
   "cell_type": "code",
   "execution_count": 27,
   "id": "06503504",
   "metadata": {},
   "outputs": [
    {
     "name": "stdout",
     "output_type": "stream",
     "text": [
      "Function finished\n",
      "Execution time: 1.0013608932495117 seconds\n"
     ]
    }
   ],
   "source": [
    "import time\n",
    "\n",
    "def timer(func):\n",
    "    def wrapper(*args, **kwargs):\n",
    "        start_time = time.time()\n",
    "        result = func(*args, **kwargs)\n",
    "        end_time = time.time()\n",
    "        print(f\"Execution time: {end_time - start_time} seconds\")\n",
    "        return result\n",
    "    return wrapper\n",
    "\n",
    "@timer\n",
    "def example_function():\n",
    "    time.sleep(1)\n",
    "    print(\"Function finished\")\n",
    "\n",
    "example_function()"
   ]
  },
  {
   "cell_type": "markdown",
   "id": "2d298b28",
   "metadata": {},
   "source": [
    "# Q13 : Explain the concept of the Diamond Problem in multiple inheritance. How does Python resolve it?\n",
    "\n",
    "\n",
    "### A13 :"
   ]
  },
  {
   "cell_type": "markdown",
   "id": "b75697a8",
   "metadata": {},
   "source": [
    "Diamond problem occurs when a class inherits from 2 classes that have common base class. \n",
    "Python resolves it using Method Resolution Order(MRO)."
   ]
  },
  {
   "cell_type": "code",
   "execution_count": 28,
   "id": "eee492d1",
   "metadata": {},
   "outputs": [
    {
     "name": "stdout",
     "output_type": "stream",
     "text": [
      "beta school\n",
      "[<class '__main__.delta'>, <class '__main__.beta'>, <class '__main__.gamma'>, <class '__main__.alpha'>, <class 'object'>]\n"
     ]
    }
   ],
   "source": [
    "class alpha:\n",
    "    def school(self):\n",
    "        print('alpha school')\n",
    "\n",
    "class beta(alpha):\n",
    "    def school(self):\n",
    "        print('beta school')\n",
    "\n",
    "class gamma(alpha):\n",
    "    def school(self):\n",
    "        print('gamma school')\n",
    "        \n",
    "class delta(beta, gamma):\n",
    "    pass\n",
    "\n",
    "d = delta()\n",
    "d.school()\n",
    "print(delta.mro())"
   ]
  },
  {
   "cell_type": "markdown",
   "id": "b1189adf",
   "metadata": {},
   "source": [
    "# Q14 :  14. Write a class method that keeps track of the number of instances created from a class.\n",
    "\n",
    "\n",
    "### A14 :"
   ]
  },
  {
   "cell_type": "code",
   "execution_count": 29,
   "id": "1e6ea8e5",
   "metadata": {},
   "outputs": [
    {
     "name": "stdout",
     "output_type": "stream",
     "text": [
      "Total books: 2\n"
     ]
    }
   ],
   "source": [
    "class Book:\n",
    "    total_books = 0\n",
    "    \n",
    "    def __init__(self, title):\n",
    "        self.title = title\n",
    "        Book.total_books += 1\n",
    "        \n",
    "    @classmethod\n",
    "    def get_total_books(cls):\n",
    "        return f\"Total books: {cls.total_books}\"\n",
    "    \n",
    "book1 = Book(\"Book a\")\n",
    "book2 = Book(\"Book b\")\n",
    "print(Book.get_total_books())"
   ]
  },
  {
   "cell_type": "markdown",
   "id": "93c90563",
   "metadata": {},
   "source": [
    "# Q15 : Implement a static method in a class that checks if a given year is a leap year.\n",
    "\n",
    "### A15 :"
   ]
  },
  {
   "cell_type": "markdown",
   "id": "ab02a0f9",
   "metadata": {},
   "source": [
    "Static Method doesn't depend on instance or class variables. It is used when method logic doesn't depend on any data from the class or object."
   ]
  },
  {
   "cell_type": "code",
   "execution_count": 30,
   "id": "9a8b009d",
   "metadata": {},
   "outputs": [
    {
     "name": "stdout",
     "output_type": "stream",
     "text": [
      "2021 is not a leap year\n",
      "2028 is a leap year\n"
     ]
    }
   ],
   "source": [
    "class YearChecker:\n",
    "    @staticmethod\n",
    "    def is_leap_year(year):\n",
    "        if (year % 4 == 0 and year % 100 != 0) or (year % 400 == 0):\n",
    "            return f\"{year} is a leap year\"\n",
    "        else:\n",
    "            return f\"{year} is not a leap year\"\n",
    "        \n",
    "print(YearChecker.is_leap_year(2021))\n",
    "print(YearChecker.is_leap_year(2028))"
   ]
  },
  {
   "cell_type": "code",
   "execution_count": null,
   "id": "b458bf95",
   "metadata": {},
   "outputs": [],
   "source": []
  }
 ],
 "metadata": {
  "kernelspec": {
   "display_name": "Python 3 (ipykernel)",
   "language": "python",
   "name": "python3"
  },
  "language_info": {
   "codemirror_mode": {
    "name": "ipython",
    "version": 3
   },
   "file_extension": ".py",
   "mimetype": "text/x-python",
   "name": "python",
   "nbconvert_exporter": "python",
   "pygments_lexer": "ipython3",
   "version": "3.11.3"
  }
 },
 "nbformat": 4,
 "nbformat_minor": 5
}
